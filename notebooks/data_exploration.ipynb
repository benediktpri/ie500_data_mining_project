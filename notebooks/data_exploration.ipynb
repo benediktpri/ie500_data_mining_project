{
 "cells": [
  {
   "cell_type": "code",
   "execution_count": null,
   "metadata": {},
   "outputs": [],
   "source": [
    "import numpy as np\n",
    "import pandas as pd\n",
    "import seaborn as sns\n",
    "import matplotlib.pyplot as plt\n",
    "%matplotlib inline"
   ]
  },
  {
   "cell_type": "code",
   "execution_count": null,
   "metadata": {},
   "outputs": [],
   "source": [
    "# Read in dataset\n",
    "df_diabetes_binary = pd.read_csv('../data/raw/diabetes_binary_health_indicators_BRFSS2015.csv')\n",
    "\n",
    "# Display first few rows\n",
    "df_diabetes_binary.head()"
   ]
  },
  {
   "cell_type": "code",
   "execution_count": null,
   "metadata": {},
   "outputs": [],
   "source": [
    "# Describe the shape of the dataset\n",
    "rows, columns = df_diabetes_binary.shape\n",
    "print(f\"Number of rows: {rows} | Number of columns: {columns}\")"
   ]
  },
  {
   "cell_type": "code",
   "execution_count": null,
   "metadata": {},
   "outputs": [],
   "source": [
    "# Print the data type of features\n",
    "print(df_diabetes_binary.dtypes)\n",
    "\n",
    "# Convert data type of features respectively \n",
    "# -> task for PREPROCESSING \n",
    "# (e.g. to only have BMI, MentHlth, PhysHlth, Age as numerical [integer type] features, \n",
    "# GenHlth, Education, Income as ordinal/categorical (non-binary) [integer type] features/, \n",
    "# and remaining features as binary [integer type])"
   ]
  },
  {
   "cell_type": "code",
   "execution_count": null,
   "metadata": {},
   "outputs": [],
   "source": [
    "# Get more insights on the basic statistics\n",
    "df_diabetes_binary.describe()"
   ]
  },
  {
   "cell_type": "code",
   "execution_count": null,
   "metadata": {},
   "outputs": [],
   "source": [
    "# Get information on missing data\n",
    "missing_values = df_diabetes_binary.isnull().sum()\n",
    "print(missing_values)"
   ]
  },
  {
   "cell_type": "code",
   "execution_count": null,
   "metadata": {},
   "outputs": [],
   "source": [
    "# Get information on the standard deviation of features\n",
    "df_diabetes_binary.std()\n"
   ]
  },
  {
   "cell_type": "code",
   "execution_count": null,
   "metadata": {},
   "outputs": [],
   "source": [
    "# Get information on the variance of features\n",
    "df_diabetes_binary.var()"
   ]
  },
  {
   "cell_type": "code",
   "execution_count": null,
   "metadata": {},
   "outputs": [],
   "source": [
    "# Create boxplots for numerical [integer type] features\n",
    "boxplot_features = ['BMI','MentHlth', 'PhysHlth', 'Age' ]\n",
    "for f in boxplot_features:\n",
    "    df_diabetes_binary.boxplot(f,by='Diabetes_binary',figsize=(5,7),fontsize=10)\n",
    "    plt.title(\"{}\\n\".format(f),fontsize=10)\n",
    "    plt.xlabel(\"Diabetes_binary\", fontsize=10)"
   ]
  },
  {
   "cell_type": "code",
   "execution_count": null,
   "metadata": {},
   "outputs": [],
   "source": [
    "#Create kernel density plots for numerical [integer type] features (except Age)\n",
    "density_plot_features = ['BMI','MentHlth', 'PhysHlth' ]\n",
    "\n",
    "print(df_diabetes_binary[density_plot_features].dtypes)\n",
    "\n",
    "for f in density_plot_features:\n",
    "    plt.figure(figsize=(5, 5))\n",
    "    sns.kdeplot(df_diabetes_binary[f], fill= True)\n",
    "    plt.title(f'Kernel Density Plot of {f}')\n",
    "    plt.xlabel(f)\n",
    "    plt.ylabel('Density')\n",
    "    plt.show()\n",
    "\n",
    "    #TODO Histogram -> physical and mental health and age und x-axis bei 0 anfangen"
   ]
  },
  {
   "cell_type": "code",
   "execution_count": null,
   "metadata": {},
   "outputs": [],
   "source": [
    "#Create kernel density plots for numerical [integer type] features (except Age)\n",
    "density_plot_features = ['BMI','MentHlth', 'PhysHlth' ]\n",
    "\n",
    "print(df_diabetes_binary[density_plot_features].dtypes)\n",
    "\n",
    "for f in density_plot_features:\n",
    "    plt.figure(figsize=(6, 4))\n",
    "    sns.kdeplot(df_diabetes_binary[df_diabetes_binary['Diabetes_binary'] == 1.0][f], color='red', fill=True, label='Diabetes')\n",
    "    sns.kdeplot(df_diabetes_binary[df_diabetes_binary['Diabetes_binary'] == 0.0][f], color='green', fill=True, label='No Diabetes')\n",
    "    plt.title(f'Kernel Density Plot of {f}')\n",
    "    plt.xlabel(f)\n",
    "    plt.ylabel('Density')\n",
    "    plt.legend()\n",
    "    plt.show()\n",
    "\n",
    "#TODO Histogram -> physical and mental health and age (colored) und x-axis bei 0 anfangen"
   ]
  },
  {
   "cell_type": "code",
   "execution_count": null,
   "metadata": {},
   "outputs": [],
   "source": [
    "# Create histograms for ordinal features + Age\n",
    "histogram_features = ['GenHlth', 'Education', 'Income', 'Age']\n",
    "\n",
    "# Code provided by ChatGPT after prompting with simple code and specifying adjustments:\n",
    "\n",
    "# Loop through each feature in the list\n",
    "for f in histogram_features:\n",
    "    \n",
    "    # Adjust bins to scale according to minimum and maximum values\n",
    "    min_val = int(df_diabetes_binary[f].min())\n",
    "    max_val = int(df_diabetes_binary[f].max()) + 1\n",
    "    bins = np.arange(min_val, max_val + 1, 1)\n",
    "    \n",
    "    # Plot histograms for each Diabetes_binary class with colors and settings\n",
    "    plt.hist([df_diabetes_binary[df_diabetes_binary['Diabetes_binary'] == 1.0][f],\n",
    "              df_diabetes_binary[df_diabetes_binary['Diabetes_binary'] == 0.0][f]], \n",
    "             color=['red', 'green'], alpha=0.7, edgecolor='black', stacked=True, bins=bins)\n",
    "    \n",
    "    # Add title and labels with adjusted label position\n",
    "    plt.title(f'Histogram of {f}', fontsize=12)\n",
    "    plt.xlabel(f, labelpad=15)  # Increase labelpad to move x-axis label lower\n",
    "    plt.ylabel('Count')\n",
    "    \n",
    "    # Set x-ticks at the start of each bin but without labels\n",
    "    plt.xticks(bins[:-1], labels=[])\n",
    "\n",
    "    # Add labels at the center of each bin\n",
    "    for i in range(len(bins) - 1):\n",
    "        label_position = (bins[i] + bins[i + 1]) / 2  # Center of each bin\n",
    "        plt.text(label_position, -0.02 * plt.ylim()[1], str(int(bins[i])), ha='center', va='top', fontsize=10)\n",
    "    \n",
    "    # Show the plot\n",
    "    plt.figure(figsize=(6, 5))\n",
    "    plt.show()\n"
   ]
  },
  {
   "cell_type": "code",
   "execution_count": null,
   "metadata": {},
   "outputs": [],
   "source": [
    "# Create correlation matrix but without redundant values\n",
    "plt.figure(figsize=(22,22))\n",
    "no_redundance = np.triu(df_diabetes_binary.corr())\n",
    "sns.heatmap(df_diabetes_binary.corr(), mask= no_redundance, annot=True);"
   ]
  },
  {
   "cell_type": "code",
   "execution_count": null,
   "metadata": {},
   "outputs": [],
   "source": [
    "# Create pair plot/ scatterplot for three feature pairs with highest and lowest correlations to display multi-collinearity \n",
    "\n",
    "# Code provided by ChatGPT after prompting with simple code and specifying adjustments:\n",
    "\n",
    "# Load the sample and correlation matrix\n",
    "sampled_data = df_diabetes_binary.sample(frac=0.1)\n",
    "correlation_matrix = sampled_data.corr()\n",
    "\n",
    "# Identify the highest and lowest correlation pairs\n",
    "# Flatten correlation matrix, filter out self-correlations, and get abs values to find top correlations\n",
    "corr_pairs = correlation_matrix.unstack().drop_duplicates()\n",
    "sorted_corr_pairs = corr_pairs[abs(corr_pairs) < 1].sort_values()\n",
    "\n",
    "# Select top 3 positive and bottom 3 negative correlations\n",
    "highest_corr_pairs = sorted_corr_pairs.tail(3).index\n",
    "lowest_corr_pairs = sorted_corr_pairs.head(3).index\n",
    "\n",
    "# Combine these into a list of selected pairs for plotting\n",
    "selected_pairs = list(highest_corr_pairs) + list(lowest_corr_pairs)\n",
    "\n",
    "# Initialize the plot with subplots for each pair\n",
    "fig, axes = plt.subplots(nrows=3, ncols=2, figsize=(15, 10))\n",
    "axes = axes.flatten()\n",
    "\n",
    "# Plot each pair\n",
    "for i, (feature_x, feature_y) in enumerate(selected_pairs):\n",
    "    sns.scatterplot(\n",
    "        data=sampled_data,\n",
    "        x=feature_x,\n",
    "        y=feature_y,\n",
    "        hue=\"Diabetes_binary\",\n",
    "        alpha=0.6,\n",
    "        ax=axes[i]\n",
    "    )\n",
    "    axes[i].set_title(f'Scatter Plot of {feature_x} vs {feature_y}')\n",
    "\n",
    "plt.tight_layout()\n",
    "plt.show()\n",
    "\n",
    "#TODO -> größe der Punkte abhängig!!\n"
   ]
  },
  {
   "cell_type": "code",
   "execution_count": null,
   "metadata": {},
   "outputs": [],
   "source": [
    "#TODO Show balance/distribution\n",
    "\n",
    "# Code provided by ChatGPT after giving instructions and details:\n",
    "\n",
    "# Display class distribution of the target variable 'Diabetes_binary'\n",
    "class_counts = df_diabetes_binary['Diabetes_binary'].value_counts()\n",
    "class_counts_df = pd.DataFrame(class_counts).reset_index()\n",
    "class_counts_df.columns = ['Class', 'Frequency']\n",
    "\n",
    "# Calculate imbalance ratio\n",
    "imbalance_ratio = class_counts.max() / class_counts.min()\n",
    "print(f\"Imbalance Ratio: {imbalance_ratio:.2f}\")\n",
    "\n",
    "# Set colors for the bars: green for class 0, red for class 1\n",
    "colors = ['green' if class_label == 0 else 'red' for class_label in class_counts.index]\n",
    "\n",
    "# Plot the class distribution\n",
    "plt.figure(figsize=(8, 6))\n",
    "class_counts.plot(kind='bar', color=colors)\n",
    "plt.title(\"Balance/Distribution of Diabetes_binary\")\n",
    "plt.xlabel(\"Diabetes_binary\")\n",
    "plt.ylabel(\"Frequency\")\n",
    "\n",
    "# Set y-axis ticks at intervals of 5000\n",
    "plt.yticks(range(0, class_counts.max() + 5000, 5000))\n",
    "\n",
    "plt.show()\n",
    "\n",
    "#TODO Code Matthias"
   ]
  },
  {
   "cell_type": "code",
   "execution_count": null,
   "metadata": {},
   "outputs": [],
   "source": [
    "#TODO Ask tutors about 2700 rows of high income but cannot afford doctor"
   ]
  },
  {
   "cell_type": "code",
   "execution_count": null,
   "metadata": {},
   "outputs": [],
   "source": [
    "#TODO Correlation of each bin of General Health feature with target variable (exploration for baseline)\n",
    "\n",
    "# Code for scatterplot by ChatGPT\n",
    "\n",
    "# Assuming df_diabetes_binary is already loaded and has the columns 'GenHlth' and 'Diabetes_binary'\n",
    "\n",
    "# Step 1: One-hot encode the 'GenHlth' feature\n",
    "genhlth_dummies = pd.get_dummies(df_diabetes_binary['GenHlth'], prefix='GenHlth')\n",
    "\n",
    "# Step 2: Concatenate the one-hot encoded columns with the original DataFrame\n",
    "df_encoded = pd.concat([df_diabetes_binary, genhlth_dummies], axis=1)\n",
    "\n",
    "# Step 3: Calculate the correlation of each GenHlth bin with the target variable\n",
    "correlations = df_encoded[genhlth_dummies.columns].corrwith(df_encoded['Diabetes_binary'])\n",
    "\n",
    "# Convert the correlations to a DataFrame for easier plotting\n",
    "correlations_df = pd.DataFrame(correlations, columns=['Correlation with Diabetes_binary']).reset_index()\n",
    "correlations_df.columns = ['GenHlth Bin', 'Correlation with Diabetes_binary']\n",
    "\n",
    "# Plotting the correlation values with a scatter plot\n",
    "plt.figure(figsize=(10, 6))\n",
    "plt.scatter(correlations_df['GenHlth Bin'], correlations_df['Correlation with Diabetes_binary'], color='blue')\n",
    "plt.title(\"Correlation of Each GenHlth Bin with Diabetes_binary\")\n",
    "plt.xlabel(\"GenHlth Bin\")\n",
    "plt.ylabel(\"Correlation with Diabetes_binary\")\n",
    "plt.xticks(rotation=45)\n",
    "plt.grid(True)\n",
    "plt.show()\n",
    "\n",
    "\n",
    "# Code for barplot by ChatGPT\n",
    "\n",
    "# Assuming df_diabetes_binary is already loaded and has the columns 'GenHlth' and 'Diabetes_binary'\n",
    "\n",
    "# Step 1: One-hot encode the 'GenHlth' feature\n",
    "genhlth_dummies = pd.get_dummies(df_diabetes_binary['GenHlth'], prefix='GenHlth')\n",
    "\n",
    "# Step 2: Concatenate the one-hot encoded columns with the original DataFrame\n",
    "df_encoded = pd.concat([df_diabetes_binary, genhlth_dummies], axis=1)\n",
    "\n",
    "# Step 3: Calculate the correlation of each GenHlth bin with the target variable\n",
    "correlations = df_encoded[genhlth_dummies.columns].corrwith(df_encoded['Diabetes_binary'])\n",
    "\n",
    "# Convert the correlations to a DataFrame for easier plotting\n",
    "correlations_df = pd.DataFrame(correlations, columns=['Correlation with Diabetes_binary']).reset_index()\n",
    "correlations_df.columns = ['GenHlth Bin', 'Correlation with Diabetes_binary']\n",
    "\n",
    "# Plotting the correlation values\n",
    "plt.figure(figsize=(10, 6))\n",
    "plt.bar(correlations_df['GenHlth Bin'], correlations_df['Correlation with Diabetes_binary'], color='blue')\n",
    "plt.title(\"Correlation of Each GenHlth Bin with Diabetes_binary\")\n",
    "plt.xlabel(\"GenHlth Bin\")\n",
    "plt.ylabel(\"Correlation with Diabetes_binary\")\n",
    "plt.xticks(rotation=45)\n",
    "plt.show()\n",
    "\n",
    "\n",
    "#TODO red and green\n",
    "\n"
   ]
  },
  {
   "cell_type": "code",
   "execution_count": null,
   "metadata": {},
   "outputs": [],
   "source": [
    "#TODO Think about possible models\n",
    "\"\"\" \n",
    "LR (Benedikt)\n",
    "Decision trees and ensembles -> good because binary (Paty)\n",
    "SVM (Salone)\n",
    "Naive Bayes (Philipp)\n",
    "KNN + Nearest Centroids (Matthias)\n",
    "\n",
    "(Deep) Neural Networks\n",
    "\n",
    "Baseline: Majority Class, Distribution Count/Class, General Health (highest correlating feature), PCA and taking first component as base\n",
    "\"\"\""
   ]
  }
 ],
 "metadata": {
  "kernelspec": {
   "display_name": "base",
   "language": "python",
   "name": "python3"
  },
  "language_info": {
   "codemirror_mode": {
    "name": "ipython",
    "version": 3
   },
   "file_extension": ".py",
   "mimetype": "text/x-python",
   "name": "python",
   "nbconvert_exporter": "python",
   "pygments_lexer": "ipython3",
   "version": "3.12.4"
  }
 },
 "nbformat": 4,
 "nbformat_minor": 2
}
