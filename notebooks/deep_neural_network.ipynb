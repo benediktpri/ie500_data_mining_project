{
 "cells": [
  {
   "cell_type": "markdown",
   "metadata": {},
   "source": [
    "# Deep Neural Network"
   ]
  },
  {
   "cell_type": "code",
   "execution_count": null,
   "metadata": {},
   "outputs": [],
   "source": [
    "import os\n",
    "import sys\n",
    "sys.path.append(os.path.abspath(\"../scripts\"))\n",
    "from data_loader import DataLoader\n",
    "import torch\n",
    "from torch import optim\n",
    "import torch.nn as nn\n",
    "from neural_network.model import NeuralNet\n",
    "from sklearn.metrics import accuracy_score, precision_score, recall_score, f1_score\n",
    "data_loader = DataLoader()"
   ]
  },
  {
   "cell_type": "code",
   "execution_count": 3,
   "metadata": {},
   "outputs": [],
   "source": [
    "import torch\n",
    "from torch.utils.data import DataLoader, TensorDataset\n",
    "import numpy as np\n",
    "from imblearn.over_sampling import SMOTE, RandomOverSampler\n",
    "from imblearn.under_sampling import RandomUnderSampler\n",
    "from imblearn.combine import SMOTETomek\n",
    "\n",
    "\n",
    "def prepare_data_with_resampling(\n",
    "    X_train, y_train, X_val, y_val, X_test, y_test, resampling_method=None\n",
    "):\n",
    "    \n",
    "    # Load data\n",
    "    X_train, y_train = data_loader.training_data\n",
    "    X_val, y_val = data_loader.validation_data\n",
    "    X_test, y_test = data_loader.test_data\n",
    "\n",
    "    # Ensure data is converted to NumPy arrays\n",
    "    X_train, y_train = np.array(X_train), np.array(y_train)\n",
    "    X_val, y_val = np.array(X_val), np.array(y_val)\n",
    "    X_test, y_test = np.array(X_test), np.array(y_test)\n",
    "\n",
    "    # Apply resampling if a method is specified\n",
    "    if resampling_method == \"random_oversample\":\n",
    "        ros = RandomOverSampler(random_state=42)\n",
    "        X_train, y_train = ros.fit_resample(X_train, y_train)\n",
    "    elif resampling_method == \"random_undersample\":\n",
    "        rus = RandomUnderSampler(random_state=42)\n",
    "        X_train, y_train = rus.fit_resample(X_train, y_train)\n",
    "    elif resampling_method == \"smote\":\n",
    "        smote = SMOTE(random_state=42)\n",
    "        X_train, y_train = smote.fit_resample(X_train, y_train)\n",
    "    elif resampling_method == \"smote_tomek\":\n",
    "        smote_tomek = SMOTETomek(random_state=42)\n",
    "        X_train, y_train = smote_tomek.fit_resample(X_train, y_train)\n",
    "    elif resampling_method is not None:\n",
    "        raise ValueError(f\"Unsupported resampling method: {resampling_method}\")\n",
    "\n",
    "    # Convert data to PyTorch tensors\n",
    "    X_train, y_train = torch.tensor(X_train, dtype=torch.float32), torch.tensor(\n",
    "        y_train, dtype=torch.long\n",
    "    )\n",
    "    X_val, y_val = torch.tensor(X_val, dtype=torch.float32), torch.tensor(\n",
    "        y_val, dtype=torch.long\n",
    "    )\n",
    "    X_test, y_test = torch.tensor(X_test, dtype=torch.float32), torch.tensor(\n",
    "        y_test, dtype=torch.long\n",
    "    )\n",
    "\n",
    "    # Create DataLoaders\n",
    "    train_dataset = TensorDataset(X_train, y_train)\n",
    "    train_loader = DataLoader(train_dataset, batch_size=32, shuffle=True)\n",
    "\n",
    "    val_dataset = TensorDataset(X_val, y_val)\n",
    "    val_loader = DataLoader(val_dataset, batch_size=32, shuffle=False)\n",
    "\n",
    "    test_dataset = TensorDataset(X_test, y_test)\n",
    "    test_loader = DataLoader(test_dataset, batch_size=32, shuffle=False)\n",
    "\n",
    "    return train_loader, val_loader, test_loader"
   ]
  },
  {
   "cell_type": "code",
   "execution_count": 4,
   "metadata": {},
   "outputs": [],
   "source": [
    "# Training function\n",
    "def train_model(model, train_loader, val_loader, epochs=20):\n",
    "    for epoch in range(epochs):\n",
    "        model.train()\n",
    "        train_loss = 0.0\n",
    "        for X_batch, y_batch in train_loader:\n",
    "            X_batch, y_batch = X_batch.to(device), y_batch.to(device).float()\n",
    "            optimizer.zero_grad()\n",
    "            outputs = model(X_batch).squeeze()\n",
    "            loss = criterion(outputs, y_batch)\n",
    "            loss.backward()\n",
    "            optimizer.step()\n",
    "            train_loss += loss.item()\n",
    "        \n",
    "        val_loss, val_metrics = evaluate_model(model, val_loader)\n",
    "        print(f\"Epoch {epoch+1}/{epochs}\")\n",
    "        print(f\"Train Loss: {train_loss/len(train_loader):.4f} | Val Loss: {val_loss:.4f} | Val Metrics: {val_metrics}\")"
   ]
  },
  {
   "cell_type": "code",
   "execution_count": 5,
   "metadata": {},
   "outputs": [],
   "source": [
    "# Evaluation function\n",
    "def evaluate_model(model, loader):\n",
    "    model.eval()\n",
    "    val_loss = 0.0\n",
    "    all_preds, all_labels = [], []\n",
    "    with torch.no_grad():\n",
    "        for X_batch, y_batch in loader:\n",
    "            X_batch, y_batch = X_batch.to(device), y_batch.to(device).float()\n",
    "            outputs = model(X_batch).squeeze()\n",
    "            loss = criterion(outputs, y_batch)\n",
    "            val_loss += loss.item()\n",
    "            preds = (outputs > 0.5).long()\n",
    "            all_preds.extend(preds.cpu().numpy())\n",
    "            all_labels.extend(y_batch.cpu().numpy())\n",
    "    metrics = {\n",
    "        \"Accuracy\": accuracy_score(all_labels, all_preds),\n",
    "        \"Precision\": precision_score(all_labels, all_preds),\n",
    "        \"Recall\": recall_score(all_labels, all_preds),\n",
    "        \"F1 Score\": f1_score(all_labels, all_preds)\n",
    "    }\n",
    "    return val_loss / len(loader), metrics"
   ]
  },
  {
   "cell_type": "code",
   "execution_count": null,
   "metadata": {},
   "outputs": [
    {
     "name": "stdout",
     "output_type": "stream",
     "text": [
      "Using mps device\n"
     ]
    }
   ],
   "source": [
    "# Specify the resampling method for this run\n",
    "resampling_method = \"smote\"  # Options: None, \"random_oversample\", \"random_undersample\", \"smote\", \"smote_tomek\"\n",
    "\n",
    "# Prepare DataLoaders with the chosen resampling method\n",
    "train_loader, val_loader, test_loader = prepare_data_with_resampling(\n",
    "    X_train, y_train, X_val, y_val, X_test, y_test, resampling_method=resampling_method\n",
    ")\n",
    "\n",
    "# Define model, loss, and optimizer\n",
    "device = (\n",
    "    \"cuda\"\n",
    "    if torch.cuda.is_available()\n",
    "    else \"mps\"\n",
    "    if torch.backends.mps.is_available()\n",
    "    else \"cpu\"\n",
    ")\n",
    "print(f\"Using {device} device\")\n",
    "input_size = X_train.shape[1]\n",
    "model = NeuralNet(input_size).to(device)\n",
    "print(model)\n",
    "criterion = nn.BCELoss()  # Binary Cross-Entropy Loss\n",
    "optimizer = optim.Adam(model.parameters(), lr=0.001)"
   ]
  },
  {
   "cell_type": "code",
   "execution_count": 8,
   "metadata": {},
   "outputs": [
    {
     "name": "stdout",
     "output_type": "stream",
     "text": [
      "Epoch 1/20\n",
      "Train Loss: 0.5189 | Val Loss: 0.5249 | Val Metrics: {'Accuracy': 0.7161739130434782, 'Precision': np.float64(0.3283942833123161), 'Recall': np.float64(0.7663070132417852), 'F1 Score': np.float64(0.4597616595556863)}\n",
      "Epoch 2/20\n",
      "Train Loss: 0.5050 | Val Loss: 0.4890 | Val Metrics: {'Accuracy': 0.7308212560386473, 'Precision': np.float64(0.3383719628261113), 'Recall': np.float64(0.7410495340853359), 'F1 Score': np.float64(0.4646014297793835)}\n",
      "Epoch 3/20\n",
      "Train Loss: 0.4978 | Val Loss: 0.5173 | Val Metrics: {'Accuracy': 0.7210434782608696, 'Precision': np.float64(0.33114648311464834), 'Recall': np.float64(0.7550269740068661), 'F1 Score': np.float64(0.4603767942583732)}\n",
      "Epoch 4/20\n",
      "Train Loss: 0.4916 | Val Loss: 0.5050 | Val Metrics: {'Accuracy': 0.7353429951690821, 'Precision': np.float64(0.3422191843244475), 'Recall': np.float64(0.7366356056890633), 'F1 Score': np.float64(0.4673304293714997)}\n",
      "Epoch 5/20\n",
      "Train Loss: 0.4861 | Val Loss: 0.4795 | Val Metrics: {'Accuracy': 0.7516135265700483, 'Precision': np.float64(0.35305892656074067), 'Recall': np.float64(0.6920058852378617), 'F1 Score': np.float64(0.46756689586612543)}\n",
      "Epoch 6/20\n",
      "Train Loss: 0.4812 | Val Loss: 0.5273 | Val Metrics: {'Accuracy': 0.7209661835748792, 'Precision': np.float64(0.330565142364107), 'Recall': np.float64(0.7515939185875429), 'F1 Score': np.float64(0.4591760299625468)}\n",
      "Epoch 7/20\n",
      "Train Loss: 0.4762 | Val Loss: 0.5019 | Val Metrics: {'Accuracy': 0.7321739130434782, 'Precision': np.float64(0.33628013777267507), 'Recall': np.float64(0.7182442373712604), 'F1 Score': np.float64(0.45808570534876447)}\n",
      "Epoch 8/20\n",
      "Train Loss: 0.4723 | Val Loss: 0.4835 | Val Metrics: {'Accuracy': 0.7490628019323672, 'Precision': np.float64(0.3501675145799727), 'Recall': np.float64(0.6920058852378617), 'F1 Score': np.float64(0.4650243058416413)}\n",
      "Epoch 9/20\n",
      "Train Loss: 0.4678 | Val Loss: 0.4510 | Val Metrics: {'Accuracy': 0.7671884057971015, 'Precision': np.float64(0.3659779614325069), 'Recall': np.float64(0.6515448749386954), 'F1 Score': np.float64(0.46868936320338683)}\n",
      "Epoch 10/20\n",
      "Train Loss: 0.4646 | Val Loss: 0.4744 | Val Metrics: {'Accuracy': 0.7579903381642512, 'Precision': np.float64(0.35691823899371067), 'Recall': np.float64(0.6679744973025993), 'F1 Score': np.float64(0.46524338172502133)}\n",
      "Epoch 11/20\n",
      "Train Loss: 0.4619 | Val Loss: 0.4434 | Val Metrics: {'Accuracy': 0.7724057971014493, 'Precision': np.float64(0.3693550714182658), 'Recall': np.float64(0.6277587052476704), 'F1 Score': np.float64(0.46507403033881367)}\n",
      "Epoch 12/20\n",
      "Train Loss: 0.4589 | Val Loss: 0.4581 | Val Metrics: {'Accuracy': 0.7653333333333333, 'Precision': np.float64(0.365633423180593), 'Recall': np.float64(0.6652770966159882), 'F1 Score': np.float64(0.4719081579405114)}\n",
      "Epoch 13/20\n",
      "Train Loss: 0.4571 | Val Loss: 0.4840 | Val Metrics: {'Accuracy': 0.752, 'Precision': np.float64(0.3532806423284406), 'Recall': np.float64(0.6905345757724375), 'F1 Score': np.float64(0.4674246825462694)}\n",
      "Epoch 14/20\n",
      "Train Loss: 0.4544 | Val Loss: 0.4386 | Val Metrics: {'Accuracy': 0.7722125603864735, 'Precision': np.float64(0.3708759954493743), 'Recall': np.float64(0.6395291809710643), 'F1 Score': np.float64(0.4694869486948695)}\n",
      "Epoch 15/20\n",
      "Train Loss: 0.4522 | Val Loss: 0.4885 | Val Metrics: {'Accuracy': 0.7463188405797101, 'Precision': np.float64(0.34733480717268483), 'Recall': np.float64(0.693477194703286), 'F1 Score': np.float64(0.46284779050736496)}\n",
      "Epoch 16/20\n",
      "Train Loss: 0.4511 | Val Loss: 0.4462 | Val Metrics: {'Accuracy': 0.7655265700483092, 'Precision': np.float64(0.3637484586929716), 'Recall': np.float64(0.6510544384502207), 'F1 Score': np.float64(0.4667311241979432)}\n",
      "Epoch 17/20\n",
      "Train Loss: 0.4496 | Val Loss: 0.4210 | Val Metrics: {'Accuracy': 0.7866666666666666, 'Precision': np.float64(0.38493456750718164), 'Recall': np.float64(0.5914664051005395), 'F1 Score': np.float64(0.46635730858468677)}\n",
      "Epoch 18/20\n",
      "Train Loss: 0.4474 | Val Loss: 0.4663 | Val Metrics: {'Accuracy': 0.750840579710145, 'Precision': np.float64(0.3494726140551531), 'Recall': np.float64(0.674350171652771), 'F1 Score': np.float64(0.46036661923495437)}\n",
      "Epoch 19/20\n",
      "Train Loss: 0.4456 | Val Loss: 0.4646 | Val Metrics: {'Accuracy': 0.7543961352657005, 'Precision': np.float64(0.3548387096774194), 'Recall': np.float64(0.6824423737126042), 'F1 Score': np.float64(0.4669071386628639)}\n",
      "Epoch 20/20\n",
      "Train Loss: 0.4437 | Val Loss: 0.4691 | Val Metrics: {'Accuracy': 0.7562125603864734, 'Precision': np.float64(0.35594315245478036), 'Recall': np.float64(0.6755762628739578), 'F1 Score': np.float64(0.4662379421221865)}\n"
     ]
    }
   ],
   "source": [
    "# Train the model\n",
    "train_model(model, train_loader, val_loader, epochs=20)"
   ]
  },
  {
   "cell_type": "code",
   "execution_count": 9,
   "metadata": {},
   "outputs": [
    {
     "name": "stdout",
     "output_type": "stream",
     "text": [
      "Model saved to ../models/neural_net_20241129_222423.pkl\n"
     ]
    }
   ],
   "source": [
    "# Save the trained model\n",
    "from datetime import datetime\n",
    "timestamp = datetime.now().strftime(\"%Y%m%d_%H%M%S\")\n",
    "model_save_path = f'../models/neural_net_{timestamp}.pkl'\n",
    "\n",
    "torch.save(model.state_dict(), model_save_path)\n",
    "print(f\"Model saved to {model_save_path}\")"
   ]
  },
  {
   "cell_type": "code",
   "execution_count": null,
   "metadata": {},
   "outputs": [
    {
     "name": "stdout",
     "output_type": "stream",
     "text": [
      "Predictions: tensor([0, 1, 0,  ..., 1, 1, 0])\n"
     ]
    },
    {
     "name": "stderr",
     "output_type": "stream",
     "text": [
      "/var/folders/mx/80hdp5rj4v550swmwk6ryqmc0000gn/T/ipykernel_70519/1837935747.py:9: FutureWarning: You are using `torch.load` with `weights_only=False` (the current default value), which uses the default pickle module implicitly. It is possible to construct malicious pickle data which will execute arbitrary code during unpickling (See https://github.com/pytorch/pytorch/blob/main/SECURITY.md#untrusted-models for more details). In a future release, the default value for `weights_only` will be flipped to `True`. This limits the functions that could be executed during unpickling. Arbitrary objects will no longer be allowed to be loaded via this mode unless they are explicitly allowlisted by the user via `torch.serialization.add_safe_globals`. We recommend you start setting `weights_only=True` for any use case where you don't have full control of the loaded file. Please open an issue on GitHub for any issues related to this experimental feature.\n",
      "  model.load_state_dict(torch.load(model_save_path))\n"
     ]
    }
   ],
   "source": [
    "import torch\n",
    "from neural_network.model import NeuralNet\n",
    "\n",
    "# Define the input size (must match the saved model)\n",
    "input_size = 21  # Number of features\n",
    "\n",
    "# Instantiate the model and load state dict\n",
    "model = NeuralNet(input_size)\n",
    "model.load_state_dict(torch.load(model_save_path))\n",
    "model.eval()  # Set to evaluation mode\n",
    "\n",
    "# Example usage\n",
    "X_val_data, _ = data_loader.validation_data\n",
    "X_val_data = torch.tensor(X_val_data.values, dtype=torch.float32)\n",
    "\n",
    "with torch.no_grad():\n",
    "    predictions = (model(X_val_data).squeeze() > 0.5).long()\n",
    "    print(\"Predictions:\", predictions)\n",
    "\n",
    "# TODO: check if it makes sense to to make prediciotns like this and use 0.5 threshold"
   ]
  },
  {
   "cell_type": "code",
   "execution_count": null,
   "metadata": {},
   "outputs": [
    {
     "name": "stdout",
     "output_type": "stream",
     "text": [
      "              precision    recall  f1-score   support\n",
      "\n",
      "         0.0     0.9270    0.7713    0.8420     21797\n",
      "         1.0     0.3559    0.6756    0.4662      4078\n",
      "\n",
      "    accuracy                         0.7562     25875\n",
      "   macro avg     0.6415    0.7234    0.6541     25875\n",
      "weighted avg     0.8370    0.7562    0.7828     25875\n",
      "\n"
     ]
    }
   ],
   "source": [
    "\n",
    "# Load data\n",
    "X_train, y_train = data_loader.training_data\n",
    "X_val, y_val = data_loader.validation_data\n",
    "X_test, y_test = data_loader.test_data\n",
    "\n",
    "\n",
    "from sklearn.metrics import accuracy_score, classification_report, confusion_matrix\n",
    "report = classification_report(y_val, predictions, digits=4, zero_division=0)\n",
    "print(report)"
   ]
  }
 ],
 "metadata": {
  "kernelspec": {
   "display_name": "venv",
   "language": "python",
   "name": "python3"
  },
  "language_info": {
   "codemirror_mode": {
    "name": "ipython",
    "version": 3
   },
   "file_extension": ".py",
   "mimetype": "text/x-python",
   "name": "python",
   "nbconvert_exporter": "python",
   "pygments_lexer": "ipython3",
   "version": "3.9.19"
  }
 },
 "nbformat": 4,
 "nbformat_minor": 2
}
